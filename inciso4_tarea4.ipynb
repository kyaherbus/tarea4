{
 "cells": [
  {
   "cell_type": "markdown",
   "id": "fc130fe7-d656-4ad2-9078-1b82d4aadfdd",
   "metadata": {},
   "source": [
    "# Inciso 4. Presentación del problema"
   ]
  },
  {
   "cell_type": "markdown",
   "id": "61b6041f-a1d7-4e7f-83c5-16d9cda54cea",
   "metadata": {},
   "source": [
    "Eres un profesor vengativo y una de tus manías es que los estudiantes se apresuren\n",
    "en sus exámenes. Para darles una lección, decides dar ceros a los tres primeros estudiantes que\n",
    "saquen menos de 60 puntos, en el orden que entregaron sus exámenes.\n",
    "Dada un arreglo 1-D de números enteros, identifica los tres primeros valores menores a 60 y\n",
    "reemplázalos por cero."
   ]
  },
  {
   "cell_type": "markdown",
   "id": "dd21d95e-2fd7-4160-9c06-8d13d97b4136",
   "metadata": {},
   "source": [
    "# Procedimiento"
   ]
  },
  {
   "cell_type": "markdown",
   "id": "d2261b01-a3fd-4e94-9d24-17b12540228e",
   "metadata": {},
   "source": [
    "## Primero importaremos Numpy"
   ]
  },
  {
   "cell_type": "code",
   "execution_count": 54,
   "id": "72f84d25-56ef-4a8c-a516-6f4b5f39c1e5",
   "metadata": {},
   "outputs": [],
   "source": [
    "import numpy as np"
   ]
  },
  {
   "cell_type": "markdown",
   "id": "b1f4b8b7-64f3-4f15-a38f-ba974de9205f",
   "metadata": {},
   "source": [
    "## Plantamos una semilla para reproducibilidad"
   ]
  },
  {
   "cell_type": "code",
   "execution_count": 57,
   "id": "fc3ff985-b815-4cdb-a6ef-e3822c3bbd4b",
   "metadata": {},
   "outputs": [],
   "source": [
    "np.random.seed(123)"
   ]
  },
  {
   "cell_type": "markdown",
   "id": "7c4a6835-5213-43aa-866f-9d0e6dbff592",
   "metadata": {},
   "source": [
    "## Generamos puntajes para 30 estudiantes distintes"
   ]
  },
  {
   "cell_type": "code",
   "execution_count": 60,
   "id": "89dc97e7-e378-4c5b-8010-4ffb74ddbe9c",
   "metadata": {},
   "outputs": [
    {
     "name": "stdout",
     "output_type": "stream",
     "text": [
      "[67 93 99 18 84 58 87 98 97 48 74 33 47 97 26 84 79 37 97 81 69 50 56 68\n",
      "  3 85 40 67 85 48]\n"
     ]
    }
   ],
   "source": [
    "calificaciones_estudiantes = np.random.randint(1, 100, size=30)\n",
    "print(calificaciones_estudiantes)"
   ]
  },
  {
   "cell_type": "markdown",
   "id": "5d2b552c-5b06-4463-9b3d-2c1af9d7d793",
   "metadata": {},
   "source": [
    "## Buscamos a los pobres estudiantes lentos"
   ]
  },
  {
   "cell_type": "code",
   "execution_count": 63,
   "id": "0ec7accc-fa63-4cb3-a541-4c5d7452d17b",
   "metadata": {},
   "outputs": [
    {
     "name": "stdout",
     "output_type": "stream",
     "text": [
      "[ 3  5  9 11 12 14 17 21 22 24 26 29]\n"
     ]
    }
   ],
   "source": [
    "menos_de_60 = np.where(calificaciones_estudiantes < 60)[0] \n",
    "print(menos_de_60)"
   ]
  },
  {
   "cell_type": "markdown",
   "id": "458ec893-ea47-4fac-a2a4-a3383bb9fb8b",
   "metadata": {},
   "source": [
    "## Seleccionamos a nuestras tres víctimas"
   ]
  },
  {
   "cell_type": "code",
   "execution_count": 29,
   "id": "0b09ee70-7994-49e5-8308-ee2ba7fcc0b6",
   "metadata": {},
   "outputs": [
    {
     "name": "stdout",
     "output_type": "stream",
     "text": [
      "[3 5 9]\n"
     ]
    }
   ],
   "source": [
    "tres_victimas = menos_de_60[:3]\n",
    "print(tres_victimas)"
   ]
  },
  {
   "cell_type": "code",
   "execution_count": null,
   "id": "3715f1f9-02ef-4e24-940b-605140d7ec55",
   "metadata": {},
   "outputs": [],
   "source": [
    "## Reemplazamos las calificaciones por 0"
   ]
  },
  {
   "cell_type": "code",
   "execution_count": 66,
   "id": "73586ab6-a2fd-4f62-ac76-d03335f3333a",
   "metadata": {},
   "outputs": [
    {
     "name": "stdout",
     "output_type": "stream",
     "text": [
      "[67 93 99  0 84  0 87 98 97  0 74 33 47 97 26 84 79 37 97 81 69 50 56 68\n",
      "  3 85 40 67 85 48]\n"
     ]
    }
   ],
   "source": [
    "calificaciones_estudiantes[tres_victimas] = 0\n",
    "print(calificaciones_estudiantes)"
   ]
  },
  {
   "cell_type": "markdown",
   "id": "9f48790f-53d1-4194-ba49-646be3d16fb5",
   "metadata": {},
   "source": [
    "# Resultados"
   ]
  },
  {
   "cell_type": "code",
   "execution_count": 83,
   "id": "44e98bac-39b9-427c-a868-397b90dab2e5",
   "metadata": {},
   "outputs": [
    {
     "name": "stdout",
     "output_type": "stream",
     "text": [
      "Nota final 1: 67.0\n",
      "Nota final 2: 93.0\n",
      "Nota final 3: 99.0\n",
      "Nota final 4: 0.0 😈\n",
      "Nota final 5: 84.0\n",
      "Nota final 6: 0.0 😈\n",
      "Nota final 7: 87.0\n",
      "Nota final 8: 98.0\n",
      "Nota final 9: 97.0\n",
      "Nota final 10: 0.0 😈\n",
      "Nota final 11: 74.0\n",
      "Nota final 12: 33.0\n",
      "Nota final 13: 47.0\n",
      "Nota final 14: 97.0\n",
      "Nota final 15: 26.0\n",
      "Nota final 16: 84.0\n",
      "Nota final 17: 79.0\n",
      "Nota final 18: 37.0\n",
      "Nota final 19: 97.0\n",
      "Nota final 20: 81.0\n",
      "Nota final 21: 69.0\n",
      "Nota final 22: 50.0\n",
      "Nota final 23: 56.0\n",
      "Nota final 24: 68.0\n",
      "Nota final 25: 3.0\n",
      "Nota final 26: 85.0\n",
      "Nota final 27: 40.0\n",
      "Nota final 28: 67.0\n",
      "Nota final 29: 85.0\n",
      "Nota final 30: 48.0\n"
     ]
    }
   ],
   "source": [
    "def lista_nueva_calificaciones(calificaciones_estudiantes):\n",
    "    for i, puntaje in enumerate(calificaciones_estudiantes):\n",
    "        if puntaje == 0:\n",
    "            print(f\"Nota final {i+1}: {puntaje:.1f} 😈\")\n",
    "        else:\n",
    "            print(f\"Nota final {i+1}: {puntaje:.1f}\")\n",
    "\n",
    "lista_nueva_calificaciones(calificaciones_estudiantes)"
   ]
  },
  {
   "cell_type": "code",
   "execution_count": null,
   "id": "fc703062-b697-478a-a11d-5bdf0cda98b4",
   "metadata": {},
   "outputs": [],
   "source": []
  }
 ],
 "metadata": {
  "kernelspec": {
   "display_name": "Python 3 (ipykernel)",
   "language": "python",
   "name": "python3"
  },
  "language_info": {
   "codemirror_mode": {
    "name": "ipython",
    "version": 3
   },
   "file_extension": ".py",
   "mimetype": "text/x-python",
   "name": "python",
   "nbconvert_exporter": "python",
   "pygments_lexer": "ipython3",
   "version": "3.12.4"
  }
 },
 "nbformat": 4,
 "nbformat_minor": 5
}
