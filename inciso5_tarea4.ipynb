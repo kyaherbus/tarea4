{
 "cells": [
  {
   "cell_type": "markdown",
   "id": "3d651cdc-7f50-495f-a4e3-1644455b6386",
   "metadata": {},
   "source": [
    "# Inciso 5. Presentación del problema"
   ]
  },
  {
   "cell_type": "markdown",
   "id": "77e2bdf3-fb1b-4c8b-a5aa-ed49c2869ad6",
   "metadata": {},
   "source": [
    "10 peces ocupan un arreglo 3-D de 5x5x5 de agua. Cada pez decide moverse a la\n",
    "posición (i, j, k) dado por el arreglo 2-D que esta más adelante. Si múltiples peces terminan\n",
    "ocupando la misma celda, el pez de mayor tamaño se come al más pequeño. Determina que peces\n",
    "sobreviven."
   ]
  },
  {
   "cell_type": "markdown",
   "id": "c6b3a43a-03a4-4228-ad02-d9f5362acfd1",
   "metadata": {},
   "source": [
    "# Procedimiento"
   ]
  },
  {
   "cell_type": "code",
   "execution_count": 3,
   "id": "4cce04c7-a42b-407f-845f-b2261b6ffca7",
   "metadata": {},
   "outputs": [
    {
     "name": "stdout",
     "output_type": "stream",
     "text": [
      "[-1.69870017  0.53799701 -0.22561399 -1.09020894  0.55391264 -1.50115445\n",
      "  0.44545933  1.3448172  -1.12364327  0.21216015]\n"
     ]
    }
   ],
   "source": [
    "import numpy as np\n",
    "locs = np . array ([\n",
    "[0 ,0 ,0] ,\n",
    "[1 ,1 ,2] ,\n",
    "[0 ,0 ,0] ,\n",
    "[2 ,1 ,3] ,\n",
    "[5 ,5 ,4] ,\n",
    "[5 ,0 ,0] ,\n",
    "[5 ,0 ,0] ,\n",
    "[0 ,0 ,0] ,\n",
    "[2 ,1 ,3] ,\n",
    "[1 ,3 ,1]\n",
    "])\n",
    "generator = np . random . default_rng (1010)\n",
    "weights = generator . normal ( size =10)\n",
    "print ( weights )\n",
    "# [ -1.699 0.538 -0.226 -1.09 0.554 -1.501\n",
    "# 0.445 1.345 -1.124 0.212]"
   ]
  },
  {
   "cell_type": "code",
   "execution_count": null,
   "id": "75a60658-cef7-4338-84f6-484e66a20dd0",
   "metadata": {},
   "outputs": [],
   "source": []
  }
 ],
 "metadata": {
  "kernelspec": {
   "display_name": "Python 3 (ipykernel)",
   "language": "python",
   "name": "python3"
  },
  "language_info": {
   "codemirror_mode": {
    "name": "ipython",
    "version": 3
   },
   "file_extension": ".py",
   "mimetype": "text/x-python",
   "name": "python",
   "nbconvert_exporter": "python",
   "pygments_lexer": "ipython3",
   "version": "3.12.4"
  }
 },
 "nbformat": 4,
 "nbformat_minor": 5
}
