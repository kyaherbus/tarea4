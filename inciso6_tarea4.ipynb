{
 "cells": [
  {
   "cell_type": "markdown",
   "id": "607cfeca-ac2a-481d-b11f-100be7fe39f0",
   "metadata": {},
   "source": [
    "# Inciso 6. Presentación del problema"
   ]
  },
  {
   "cell_type": "markdown",
   "id": "f1bade5b-8a1c-44a8-a867-3111ddc996b7",
   "metadata": {},
   "source": [
    "Dado un arreglo de 10x10x10 de ceros, establece (i, j, k) = 1 sí, i es impar, j es par y\n",
    "k es primo. En otras palabras, establece esos elementos a 1: (1, 0, 2), (1, 0, 3), (1, 0, 5), (1, 0, 7),(1, 2, 2)..."
   ]
  },
  {
   "cell_type": "markdown",
   "id": "728303a3-f820-4dac-ac51-5985f2fe5265",
   "metadata": {},
   "source": [
    "# Resolución"
   ]
  },
  {
   "cell_type": "code",
   "execution_count": 1,
   "id": "f0d50b4f-7fd3-43c5-825b-a4a5af923dfb",
   "metadata": {},
   "outputs": [],
   "source": [
    "import numpy as np\n"
   ]
  },
  {
   "cell_type": "markdown",
   "id": "459b5af8-9bac-4a77-9a19-34e29fbacd07",
   "metadata": {},
   "source": [
    "## Hacemos el arreglo de 10x10x10"
   ]
  },
  {
   "cell_type": "code",
   "execution_count": 2,
   "id": "8aa38466-4d5e-4820-8596-fb7002584f66",
   "metadata": {},
   "outputs": [
    {
     "name": "stdout",
     "output_type": "stream",
     "text": [
      "[[[0 0 0 0 0 0 0 0 0 0]\n",
      "  [0 0 0 0 0 0 0 0 0 0]\n",
      "  [0 0 0 0 0 0 0 0 0 0]\n",
      "  [0 0 0 0 0 0 0 0 0 0]\n",
      "  [0 0 0 0 0 0 0 0 0 0]\n",
      "  [0 0 0 0 0 0 0 0 0 0]\n",
      "  [0 0 0 0 0 0 0 0 0 0]\n",
      "  [0 0 0 0 0 0 0 0 0 0]\n",
      "  [0 0 0 0 0 0 0 0 0 0]\n",
      "  [0 0 0 0 0 0 0 0 0 0]]\n",
      "\n",
      " [[0 0 0 0 0 0 0 0 0 0]\n",
      "  [0 0 0 0 0 0 0 0 0 0]\n",
      "  [0 0 0 0 0 0 0 0 0 0]\n",
      "  [0 0 0 0 0 0 0 0 0 0]\n",
      "  [0 0 0 0 0 0 0 0 0 0]\n",
      "  [0 0 0 0 0 0 0 0 0 0]\n",
      "  [0 0 0 0 0 0 0 0 0 0]\n",
      "  [0 0 0 0 0 0 0 0 0 0]\n",
      "  [0 0 0 0 0 0 0 0 0 0]\n",
      "  [0 0 0 0 0 0 0 0 0 0]]\n",
      "\n",
      " [[0 0 0 0 0 0 0 0 0 0]\n",
      "  [0 0 0 0 0 0 0 0 0 0]\n",
      "  [0 0 0 0 0 0 0 0 0 0]\n",
      "  [0 0 0 0 0 0 0 0 0 0]\n",
      "  [0 0 0 0 0 0 0 0 0 0]\n",
      "  [0 0 0 0 0 0 0 0 0 0]\n",
      "  [0 0 0 0 0 0 0 0 0 0]\n",
      "  [0 0 0 0 0 0 0 0 0 0]\n",
      "  [0 0 0 0 0 0 0 0 0 0]\n",
      "  [0 0 0 0 0 0 0 0 0 0]]\n",
      "\n",
      " [[0 0 0 0 0 0 0 0 0 0]\n",
      "  [0 0 0 0 0 0 0 0 0 0]\n",
      "  [0 0 0 0 0 0 0 0 0 0]\n",
      "  [0 0 0 0 0 0 0 0 0 0]\n",
      "  [0 0 0 0 0 0 0 0 0 0]\n",
      "  [0 0 0 0 0 0 0 0 0 0]\n",
      "  [0 0 0 0 0 0 0 0 0 0]\n",
      "  [0 0 0 0 0 0 0 0 0 0]\n",
      "  [0 0 0 0 0 0 0 0 0 0]\n",
      "  [0 0 0 0 0 0 0 0 0 0]]\n",
      "\n",
      " [[0 0 0 0 0 0 0 0 0 0]\n",
      "  [0 0 0 0 0 0 0 0 0 0]\n",
      "  [0 0 0 0 0 0 0 0 0 0]\n",
      "  [0 0 0 0 0 0 0 0 0 0]\n",
      "  [0 0 0 0 0 0 0 0 0 0]\n",
      "  [0 0 0 0 0 0 0 0 0 0]\n",
      "  [0 0 0 0 0 0 0 0 0 0]\n",
      "  [0 0 0 0 0 0 0 0 0 0]\n",
      "  [0 0 0 0 0 0 0 0 0 0]\n",
      "  [0 0 0 0 0 0 0 0 0 0]]\n",
      "\n",
      " [[0 0 0 0 0 0 0 0 0 0]\n",
      "  [0 0 0 0 0 0 0 0 0 0]\n",
      "  [0 0 0 0 0 0 0 0 0 0]\n",
      "  [0 0 0 0 0 0 0 0 0 0]\n",
      "  [0 0 0 0 0 0 0 0 0 0]\n",
      "  [0 0 0 0 0 0 0 0 0 0]\n",
      "  [0 0 0 0 0 0 0 0 0 0]\n",
      "  [0 0 0 0 0 0 0 0 0 0]\n",
      "  [0 0 0 0 0 0 0 0 0 0]\n",
      "  [0 0 0 0 0 0 0 0 0 0]]\n",
      "\n",
      " [[0 0 0 0 0 0 0 0 0 0]\n",
      "  [0 0 0 0 0 0 0 0 0 0]\n",
      "  [0 0 0 0 0 0 0 0 0 0]\n",
      "  [0 0 0 0 0 0 0 0 0 0]\n",
      "  [0 0 0 0 0 0 0 0 0 0]\n",
      "  [0 0 0 0 0 0 0 0 0 0]\n",
      "  [0 0 0 0 0 0 0 0 0 0]\n",
      "  [0 0 0 0 0 0 0 0 0 0]\n",
      "  [0 0 0 0 0 0 0 0 0 0]\n",
      "  [0 0 0 0 0 0 0 0 0 0]]\n",
      "\n",
      " [[0 0 0 0 0 0 0 0 0 0]\n",
      "  [0 0 0 0 0 0 0 0 0 0]\n",
      "  [0 0 0 0 0 0 0 0 0 0]\n",
      "  [0 0 0 0 0 0 0 0 0 0]\n",
      "  [0 0 0 0 0 0 0 0 0 0]\n",
      "  [0 0 0 0 0 0 0 0 0 0]\n",
      "  [0 0 0 0 0 0 0 0 0 0]\n",
      "  [0 0 0 0 0 0 0 0 0 0]\n",
      "  [0 0 0 0 0 0 0 0 0 0]\n",
      "  [0 0 0 0 0 0 0 0 0 0]]\n",
      "\n",
      " [[0 0 0 0 0 0 0 0 0 0]\n",
      "  [0 0 0 0 0 0 0 0 0 0]\n",
      "  [0 0 0 0 0 0 0 0 0 0]\n",
      "  [0 0 0 0 0 0 0 0 0 0]\n",
      "  [0 0 0 0 0 0 0 0 0 0]\n",
      "  [0 0 0 0 0 0 0 0 0 0]\n",
      "  [0 0 0 0 0 0 0 0 0 0]\n",
      "  [0 0 0 0 0 0 0 0 0 0]\n",
      "  [0 0 0 0 0 0 0 0 0 0]\n",
      "  [0 0 0 0 0 0 0 0 0 0]]\n",
      "\n",
      " [[0 0 0 0 0 0 0 0 0 0]\n",
      "  [0 0 0 0 0 0 0 0 0 0]\n",
      "  [0 0 0 0 0 0 0 0 0 0]\n",
      "  [0 0 0 0 0 0 0 0 0 0]\n",
      "  [0 0 0 0 0 0 0 0 0 0]\n",
      "  [0 0 0 0 0 0 0 0 0 0]\n",
      "  [0 0 0 0 0 0 0 0 0 0]\n",
      "  [0 0 0 0 0 0 0 0 0 0]\n",
      "  [0 0 0 0 0 0 0 0 0 0]\n",
      "  [0 0 0 0 0 0 0 0 0 0]]]\n"
     ]
    }
   ],
   "source": [
    "arreglo = np.zeros((10, 10, 10), dtype=int)\n",
    "print(arreglo)"
   ]
  },
  {
   "cell_type": "markdown",
   "id": "5f58a35d-a6b8-4b27-8f97-53c28007cb52",
   "metadata": {},
   "source": [
    "## Verificar si un número es primo"
   ]
  },
  {
   "cell_type": "code",
   "execution_count": 3,
   "id": "efe67a71-0a58-4090-a5ee-6b5386eb141f",
   "metadata": {},
   "outputs": [],
   "source": [
    "def es_primo(n):\n",
    "    if n < 2:\n",
    "        return False\n",
    "    for i in range(2, int(np.sqrt(n)) + 1):\n",
    "        if n % i == 0:\n",
    "            return False\n",
    "    return True"
   ]
  },
  {
   "cell_type": "markdown",
   "id": "30f8cd78-a961-4863-bbdc-5bcc359411d0",
   "metadata": {},
   "source": [
    "## Crear máscaras para cada condición"
   ]
  },
  {
   "cell_type": "code",
   "execution_count": 4,
   "id": "b864fb62-5dc6-4004-b847-a34df3b187ea",
   "metadata": {},
   "outputs": [],
   "source": [
    "i_impares = np.arange(10) % 2 == 1\n",
    "j_pares = np.arange(10) % 2 == 0\n"
   ]
  },
  {
   "cell_type": "code",
   "execution_count": 5,
   "id": "b1c32f55-e551-4545-8cca-13355de1cf3e",
   "metadata": {},
   "outputs": [],
   "source": [
    "k_primos = np.array([es_primo(k) for k in range(10)])"
   ]
  },
  {
   "cell_type": "markdown",
   "id": "e9c8ac3b-9a2f-475f-94f0-3f490adc1d5f",
   "metadata": {},
   "source": [
    "## Imprimir las máscaras para entender qué valores cumplen las condiciones"
   ]
  },
  {
   "cell_type": "code",
   "execution_count": 6,
   "id": "d8e9ea7b-0499-4e18-9181-4778a6ff2fba",
   "metadata": {},
   "outputs": [
    {
     "name": "stdout",
     "output_type": "stream",
     "text": [
      "Impares: [1 3 5 7 9]\n",
      "Pares: [0 2 4 6 8]\n",
      "Primos: [2 3 5 7]\n"
     ]
    }
   ],
   "source": [
    "print(\"Impares:\", np.where(i_impares)[0])\n",
    "print(\"Pares:\", np.where(j_pares)[0])\n",
    "print(\"Primos:\", np.where(k_primos)[0])"
   ]
  },
  {
   "cell_type": "code",
   "execution_count": 7,
   "id": "807955ee-2293-443d-b8ba-6725c0e69419",
   "metadata": {},
   "outputs": [],
   "source": [
    "arreglo[i_impares[:, np.newaxis, np.newaxis] & \n",
    "        j_pares[np.newaxis, :, np.newaxis] & \n",
    "        k_primos[np.newaxis, np.newaxis, :]] = 1"
   ]
  },
  {
   "cell_type": "markdown",
   "id": "42e0c3e2-4ea4-46f9-945e-124e413b836e",
   "metadata": {},
   "source": [
    "# Resolución"
   ]
  },
  {
   "cell_type": "markdown",
   "id": "80da2e37-9702-4282-a7d7-10008c9b5015",
   "metadata": {},
   "source": [
    "## Clasos de prueba"
   ]
  },
  {
   "cell_type": "code",
   "execution_count": 8,
   "id": "27b4e175-9e32-4df0-8f68-928f1232fd9b",
   "metadata": {},
   "outputs": [],
   "source": [
    "test_cases = [\n",
    "    # Casos que deberían ser 1 (i impar, j par, k primo)\n",
    "    (1, 0, 2), (1, 0, 3), (1, 0, 5), (1, 0, 7),\n",
    "    (1, 2, 2), (3, 0, 3), (5, 4, 5), (7, 6, 7),\n",
    "    (9, 8, 2), (9, 8, 7),\n",
    "    \n",
    "    # Casos que deberían ser 0\n",
    "    (0, 0, 2),  # i no es impar\n",
    "    (1, 1, 2),  # j no es par\n",
    "    (1, 0, 4),  # k no es primo\n",
    "    (2, 2, 2),  # i no es impar, aunque j es par y k es primo\n",
    "    (1, 3, 3),  # j no es par, aunque i es impar y k es primo\n",
    "    (1, 0, 6),  # k no es primo, aunque i es impar y j es par\n",
    "    (0, 1, 4)   # Ninguna condición se cumple\n",
    "]"
   ]
  },
  {
   "cell_type": "code",
   "execution_count": 9,
   "id": "3dd7f884-a69b-45bf-a3b3-e086a18716d2",
   "metadata": {},
   "outputs": [
    {
     "name": "stdout",
     "output_type": "stream",
     "text": [
      "\n",
      "Verificacion de casos de prueba:\n",
      "--------------------------------\n",
      "Test 1: (1,0,2) = 1 ✓\n",
      "  Condiciones cumplidas: i impar, j par, k primo\n",
      "Test 2: (1,0,3) = 1 ✓\n",
      "  Condiciones cumplidas: i impar, j par, k primo\n",
      "Test 3: (1,0,5) = 1 ✓\n",
      "  Condiciones cumplidas: i impar, j par, k primo\n",
      "Test 4: (1,0,7) = 1 ✓\n",
      "  Condiciones cumplidas: i impar, j par, k primo\n",
      "Test 5: (1,2,2) = 1 ✓\n",
      "  Condiciones cumplidas: i impar, j par, k primo\n",
      "Test 6: (3,0,3) = 1 ✓\n",
      "  Condiciones cumplidas: i impar, j par, k primo\n",
      "Test 7: (5,4,5) = 1 ✓\n",
      "  Condiciones cumplidas: i impar, j par, k primo\n",
      "Test 8: (7,6,7) = 1 ✓\n",
      "  Condiciones cumplidas: i impar, j par, k primo\n",
      "Test 9: (9,8,2) = 1 ✓\n",
      "  Condiciones cumplidas: i impar, j par, k primo\n",
      "Test 10: (9,8,7) = 1 ✓\n",
      "  Condiciones cumplidas: i impar, j par, k primo\n",
      "Test 11: (0,0,2) = 0 ✓\n",
      "  Condiciones cumplidas: j par, k primo\n",
      "Test 12: (1,1,2) = 0 ✓\n",
      "  Condiciones cumplidas: i impar, k primo\n",
      "Test 13: (1,0,4) = 0 ✓\n",
      "  Condiciones cumplidas: i impar, j par\n",
      "Test 14: (2,2,2) = 0 ✓\n",
      "  Condiciones cumplidas: j par, k primo\n",
      "Test 15: (1,3,3) = 0 ✓\n",
      "  Condiciones cumplidas: i impar, k primo\n",
      "Test 16: (1,0,6) = 0 ✓\n",
      "  Condiciones cumplidas: i impar, j par\n",
      "Test 17: (0,1,4) = 0 ✓\n",
      "  Condiciones cumplidas: ninguna\n"
     ]
    }
   ],
   "source": [
    "print(\"\\nVerificacion de casos de prueba:\")\n",
    "print(\"--------------------------------\")\n",
    "for idx, (i, j, k) in enumerate(test_cases):\n",
    "    valor_actual = arreglo[i, j, k]\n",
    "    condiciones = []\n",
    "    if i % 2 == 1: condiciones.append(\"i impar\")\n",
    "    if j % 2 == 0: condiciones.append(\"j par\")\n",
    "    if es_primo(k): condiciones.append(\"k primo\")\n",
    "    \n",
    "    valor_esperado = 1 if len(condiciones) == 3 else 0\n",
    "    estado = \"✓\" if valor_actual == valor_esperado else \"✗\"\n",
    "    \n",
    "    print(f\"Test {idx+1}: ({i},{j},{k}) = {valor_actual} {estado}\")\n",
    "    print(f\"  Condiciones cumplidas: {', '.join(condiciones) if condiciones else 'ninguna'}\")\n"
   ]
  },
  {
   "cell_type": "code",
   "execution_count": null,
   "id": "37afe1d4-6be2-4a34-81ee-5cd815fa698b",
   "metadata": {},
   "outputs": [],
   "source": []
  }
 ],
 "metadata": {
  "kernelspec": {
   "display_name": "Python 3 (ipykernel)",
   "language": "python",
   "name": "python3"
  },
  "language_info": {
   "codemirror_mode": {
    "name": "ipython",
    "version": 3
   },
   "file_extension": ".py",
   "mimetype": "text/x-python",
   "name": "python",
   "nbconvert_exporter": "python",
   "pygments_lexer": "ipython3",
   "version": "3.12.4"
  }
 },
 "nbformat": 4,
 "nbformat_minor": 5
}
